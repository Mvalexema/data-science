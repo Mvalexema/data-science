{
 "cells": [
  {
   "cell_type": "code",
   "execution_count": 3,
   "metadata": {},
   "outputs": [
    {
     "name": "stdout",
     "output_type": "stream",
     "text": [
      "Your DNA sequence is: ATACAGATACGGTTAGGACATGCA\n",
      "TGGA is not found\n",
      "AGTC is not found\n",
      "GTCA is not found\n",
      "Segments split by 'G': ['ATACA', 'ATAC', '', 'TTA', '', 'ACAT', 'CA']\n",
      "Trait for blue eyes likely present.\n"
     ]
    }
   ],
   "source": [
    "# Geno Tech project\n",
    "\n",
    "# Development of a DNA Sequence Analyser\n",
    "\n",
    "# Input DNA for analysis\n",
    "\n",
    "dna_sequence = input(\"Welcome to DNA  Sequence Analyser! \\n Please input you DNA as a string of nucleotides represented by the letters A,T,G,C.\").upper()\n",
    "print(f\"Your DNA sequence is: {dna_sequence}\")\n",
    "\n",
    "check_nucl = input(f\"Do you want to replace 'A' with 'T': enter Y or N\").upper()\n",
    "\n",
    "if check_nucl == 'Y':\n",
    "    dna_modified = dna_sequence.replace(\"A\",\"T\")\n",
    "\n",
    "# Identify specific patterns, match them to know genetic markers, and predict possible traits based on these sequences\n",
    "\n",
    "genetic_marker1 = \"TGGA\"\n",
    "genetic_marker2 = \"AGTC\"\n",
    "genetic_marker3 = \"GTCA\"\n",
    "\n",
    "\n",
    "if genetic_marker1 in dna_sequence:\n",
    "    print(f\"Genetic marker 1 found: \", genetic_marker1)\n",
    "else:\n",
    "    print(f\"{genetic_marker1} is not found\")    \n",
    "\n",
    "if genetic_marker2 in dna_sequence:\n",
    "    print(f\"Genetic marker 2 found: \", genetic_marker2)\n",
    "else:\n",
    "    print(f\"{genetic_marker2} is not found\")\n",
    "\n",
    "if genetic_marker3 in dna_sequence:\n",
    "    print(f\"Genetic marker 3 found: \", genetic_marker3)\n",
    "\n",
    "else:\n",
    "    print(f\"{genetic_marker3} is not found\")\n",
    "\n",
    "segments = dna_sequence.split(\"G\")\n",
    "print(\"Segments split by 'G':\", segments) \n",
    "\n",
    "trait_sequence = \"TACG\"\n",
    "if trait_sequence in dna_sequence:\n",
    "    print(\"Trait for blue eyes likely present.\")\n",
    "\n",
    "\n",
    "\n",
    "\n",
    "\n"
   ]
  }
 ],
 "metadata": {
  "kernelspec": {
   "display_name": "_env1",
   "language": "python",
   "name": "python3"
  },
  "language_info": {
   "codemirror_mode": {
    "name": "ipython",
    "version": 3
   },
   "file_extension": ".py",
   "mimetype": "text/x-python",
   "name": "python",
   "nbconvert_exporter": "python",
   "pygments_lexer": "ipython3",
   "version": "3.11.6"
  }
 },
 "nbformat": 4,
 "nbformat_minor": 2
}
